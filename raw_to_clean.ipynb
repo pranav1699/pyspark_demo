{
 "cells": [
  {
   "cell_type": "markdown",
   "id": "6d6103eb-1d81-4254-a216-0dcbbfd7fb1c",
   "metadata": {},
   "source": [
    "### Import necessary packages"
   ]
  },
  {
   "cell_type": "code",
   "execution_count": 6,
   "id": "e83d3814-76e4-4757-a54e-e816603fb4d3",
   "metadata": {},
   "outputs": [],
   "source": [
    "from pyspark import *\n",
    "from pyspark.sql import *"
   ]
  },
  {
   "cell_type": "markdown",
   "id": "35f3eec7-ff3d-45ca-9ca5-5a582b0cff52",
   "metadata": {},
   "source": [
    "### Initializing spark session"
   ]
  },
  {
   "cell_type": "code",
   "execution_count": 7,
   "id": "1d36b197-c053-4947-8dd1-058ba297b94e",
   "metadata": {},
   "outputs": [],
   "source": [
    "spark = SparkSession.builder \\\n",
    "        .appName(\"Test app for learning\") \\\n",
    "        .master(\"local[3]\") \\\n",
    "        .getOrCreate()"
   ]
  },
  {
   "cell_type": "markdown",
   "id": "1167e6f0-e34d-46ac-9170-5c042140baff",
   "metadata": {},
   "source": [
    "### Reading the raw csv file"
   ]
  },
  {
   "cell_type": "code",
   "execution_count": 8,
   "id": "4266d556-4570-48cc-8567-008dc00b0990",
   "metadata": {},
   "outputs": [],
   "source": [
    "countries_companies_raw = spark.read \\\n",
    "                            .format(\"csv\") \\\n",
    "                            .option(\"header\",\"true\") \\\n",
    "                            .load(\"raw_data/companies.csv\")"
   ]
  },
  {
   "cell_type": "markdown",
   "id": "361d71a0-d3f1-42c0-9fab-6a78e93bdbf2",
   "metadata": {},
   "source": [
    "### Cleaning the dataframe"
   ]
  },
  {
   "cell_type": "code",
   "execution_count": 9,
   "id": "04243e14-2427-4034-b9ee-0ddbda3c8e34",
   "metadata": {},
   "outputs": [],
   "source": [
    "countries_companies_cleaned = countries_companies_raw.select(\"Company\",\"Profits ($billion)\",\"Sales ($billion)\",\"Country\",\"Continent\")\\\n",
    "                                .withColumnsRenamed(\n",
    "                                    {\"Company\":\"company\",\n",
    "                                     \"Profits ($billion)\":\"profits_in_billions\",\n",
    "                                     \"Sales ($billion)\":\"sales_in_billions\",\n",
    "                                     \"Country\":\"country\",\n",
    "                                    \"Continent\":\"continent\"\n",
    "                                    })"
   ]
  },
  {
   "cell_type": "markdown",
   "id": "6e205998-766e-44d7-97a8-17f69721d04e",
   "metadata": {},
   "source": [
    "### Writing the dataframe with partitions"
   ]
  },
  {
   "cell_type": "code",
   "execution_count": 10,
   "id": "1ced8664-2781-4887-bf02-2e2a08335949",
   "metadata": {},
   "outputs": [],
   "source": [
    "countries_companies_cleaned.write \\\n",
    "    .format(\"parquet\") \\\n",
    "    .partitionBy(\"continent\",\"country\") \\\n",
    "    .mode(\"overwrite\") \\\n",
    "    .option(\"path\" ,\"cleaned_data/\") \\\n",
    "    .save()"
   ]
  }
 ],
 "metadata": {
  "kernelspec": {
   "display_name": "Python 3 (ipykernel)",
   "language": "python",
   "name": "python3"
  },
  "language_info": {
   "codemirror_mode": {
    "name": "ipython",
    "version": 3
   },
   "file_extension": ".py",
   "mimetype": "text/x-python",
   "name": "python",
   "nbconvert_exporter": "python",
   "pygments_lexer": "ipython3",
   "version": "3.11.4"
  }
 },
 "nbformat": 4,
 "nbformat_minor": 5
}
