{
 "cells": [
  {
   "cell_type": "markdown",
   "id": "bbd0b4ea-f3ec-4e35-9358-fce581376ac7",
   "metadata": {},
   "source": [
    "### Import necessary packages"
   ]
  },
  {
   "cell_type": "code",
   "execution_count": 12,
   "id": "fbd43966-e1c8-4f2a-8273-a29821816263",
   "metadata": {},
   "outputs": [],
   "source": [
    "from pyspark import *\n",
    "from pyspark.sql import *"
   ]
  },
  {
   "cell_type": "markdown",
   "id": "0ce54015-94b0-4785-9ba9-cc590bf61f42",
   "metadata": {},
   "source": [
    "### Initializing spark session"
   ]
  },
  {
   "cell_type": "code",
   "execution_count": 13,
   "id": "5d009606-e288-4317-8c44-39a0c0964c7c",
   "metadata": {},
   "outputs": [],
   "source": [
    "spark = SparkSession.builder \\\n",
    "        .appName(\"clean to silver stage\") \\\n",
    "        .master(\"local[3]\") \\\n",
    "        .getOrCreate()"
   ]
  },
  {
   "cell_type": "markdown",
   "id": "9079bfa2-e226-4c0b-ade5-0a6f9421e16f",
   "metadata": {},
   "source": [
    "### Reading the cleaned data"
   ]
  },
  {
   "cell_type": "code",
   "execution_count": 14,
   "id": "65f43906-626f-471e-b5d2-1347d9c9f430",
   "metadata": {},
   "outputs": [],
   "source": [
    "country_companies_silver = spark.read \\\n",
    "                            .format(\"parquet\") \\\n",
    "                            .load(\"cleaned_data/\")"
   ]
  },
  {
   "cell_type": "markdown",
   "id": "a7f1c4e4-6257-403b-bb2b-649e2d1a959a",
   "metadata": {},
   "source": [
    "### Creating the temp view "
   ]
  },
  {
   "cell_type": "code",
   "execution_count": 15,
   "id": "6c4d987f-d3bb-4b3d-b4f5-fc9d9163f46f",
   "metadata": {},
   "outputs": [],
   "source": [
    "country_companies_silver.createOrReplaceTempView(\"country_companies_data\")"
   ]
  },
  {
   "cell_type": "markdown",
   "id": "0198ddeb-cd77-46bf-939a-23398324dee0",
   "metadata": {},
   "source": [
    "### Using spark sql to find the total profit for each country"
   ]
  },
  {
   "cell_type": "code",
   "execution_count": 33,
   "id": "30e7e9dd-d930-4590-86dd-d2a3e3204210",
   "metadata": {},
   "outputs": [],
   "source": [
    "country_total_profit = spark.sql(\"\"\"\n",
    "            select country, round(sum(profits_in_billions),2) as total_profit_in_billions \n",
    "            from country_companies_data \n",
    "            group by country;\"\"\")\n"
   ]
  },
  {
   "cell_type": "markdown",
   "id": "9ac74da1-767c-4dec-adcb-0937af6fd9cd",
   "metadata": {},
   "source": [
    "### Writing the country profit data"
   ]
  },
  {
   "cell_type": "code",
   "execution_count": 39,
   "id": "0aa297eb-80f7-4af8-b3b2-6534fa69547b",
   "metadata": {},
   "outputs": [],
   "source": [
    "country_total_profit.write \\\n",
    "        .format(\"parquet\") \\\n",
    "        .mode(\"overwrite\") \\\n",
    "        .option(\"path\" ,\"country_profit/\") \\\n",
    "        .save()"
   ]
  },
  {
   "cell_type": "markdown",
   "id": "2461c179-4653-4367-bdc6-fbc84cd62083",
   "metadata": {},
   "source": [
    "### Using spark sql to find the total profit for each continent"
   ]
  },
  {
   "cell_type": "code",
   "execution_count": 41,
   "id": "deb1fa85-740f-4d42-8473-e442c4845836",
   "metadata": {},
   "outputs": [],
   "source": [
    "continent_total_profit = spark.sql(\"\"\"\n",
    "                        select continent , round(sum(profits_in_billions),2) as total_profit_in_billions \n",
    "                        from country_companies_data\n",
    "                        group by continent ;\n",
    "                        \"\"\")"
   ]
  },
  {
   "cell_type": "markdown",
   "id": "fe1b1f38-ff8c-465b-87b3-db998dcc2ce8",
   "metadata": {},
   "source": [
    "### Writing the continent profit data"
   ]
  },
  {
   "cell_type": "code",
   "execution_count": 42,
   "id": "21ae5625-1bea-4a44-95ff-aa30baa4ebae",
   "metadata": {},
   "outputs": [],
   "source": [
    "continent_total_profit.write \\\n",
    "        .format(\"parquet\") \\\n",
    "        .mode(\"overwrite\") \\\n",
    "        .option(\"path\" ,\"continent_profit/\") \\\n",
    "        .save()"
   ]
  }
 ],
 "metadata": {
  "kernelspec": {
   "display_name": "Python 3 (ipykernel)",
   "language": "python",
   "name": "python3"
  },
  "language_info": {
   "codemirror_mode": {
    "name": "ipython",
    "version": 3
   },
   "file_extension": ".py",
   "mimetype": "text/x-python",
   "name": "python",
   "nbconvert_exporter": "python",
   "pygments_lexer": "ipython3",
   "version": "3.11.4"
  }
 },
 "nbformat": 4,
 "nbformat_minor": 5
}
